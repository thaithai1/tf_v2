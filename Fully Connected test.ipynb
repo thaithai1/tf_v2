{
 "cells": [
  {
   "cell_type": "code",
   "execution_count": 1,
   "metadata": {},
   "outputs": [],
   "source": [
    "from ConvNet import *\n",
    "from utils import *\n",
    "import numpy as np\n",
    "import matplotlib.pyplot as plt\n",
    "%matplotlib inline \n",
    "%load_ext autoreload\n",
    "%autoreload 2\n",
    "!rm -r log_graph"
   ]
  },
  {
   "cell_type": "code",
   "execution_count": 2,
   "metadata": {},
   "outputs": [
    {
     "data": {
      "text/plain": [
       "[name: \"/device:CPU:0\"\n",
       " device_type: \"CPU\"\n",
       " memory_limit: 268435456\n",
       " locality {\n",
       " }\n",
       " incarnation: 9679323770577446023, name: \"/device:XLA_CPU:0\"\n",
       " device_type: \"XLA_CPU\"\n",
       " memory_limit: 17179869184\n",
       " locality {\n",
       " }\n",
       " incarnation: 118744984558253421\n",
       " physical_device_desc: \"device: XLA_CPU device\"]"
      ]
     },
     "execution_count": 2,
     "metadata": {},
     "output_type": "execute_result"
    }
   ],
   "source": [
    "import tensorflow as tf\n",
    "from tensorflow.python.client import device_lib\n",
    "device_lib.list_local_devices()"
   ]
  },
  {
   "cell_type": "markdown",
   "metadata": {},
   "source": [
    "## I. Basic operation with tensorFlow"
   ]
  },
  {
   "cell_type": "code",
   "execution_count": 3,
   "metadata": {},
   "outputs": [
    {
     "name": "stdout",
     "output_type": "stream",
     "text": [
      "WARNING:tensorflow:From /home/thaithai1/cloud/lib/python3.6/site-packages/tensorflow_core/python/ops/math_grad.py:1375: where (from tensorflow.python.ops.array_ops) is deprecated and will be removed in a future version.\n",
      "Instructions for updating:\n",
      "Use tf.where in 2.0, which has the same broadcast rule as np.where\n"
     ]
    }
   ],
   "source": [
    "tf.reset_default_graph()\n",
    "\n",
    "#setup\n",
    "x = tf.constant(1.,name=\"input_value\")\n",
    "w = tf.Variable(0.8, name=\"weight\")\n",
    "y = tf.multiply(w , x, name=\"output_value\")\n",
    "y_ = tf.constant(0.0)\n",
    "loss = (y - y_)**2\n",
    "\n",
    "#Print graph\n",
    "# monitor_operation()\n",
    "\n",
    "#Optimizer\n",
    "train_step = tf.train.GradientDescentOptimizer(0.025).minimize(loss)\n",
    "\n",
    "#Summary\n",
    "tf.summary.scalar('ouput', y)\n",
    "tf.summary.scalar(\"loss\", loss)\n",
    "merged_summary_op = tf.summary.merge_all()\n",
    "\n",
    "\n",
    "with tf.Session() as sess:\n",
    "    summary_writer = tf.summary.FileWriter('log_test-graph')\n",
    "    summary_writer.add_graph(sess.graph)\n",
    "    \n",
    "    init = tf.global_variables_initializer()\n",
    "    sess.run(init)\n",
    "    for i in range(100):\n",
    "        summary_str = sess.run(merged_summary_op)\n",
    "        summary_writer.add_summary(summary_str, i)\n",
    "        sess.run(train_step)"
   ]
  },
  {
   "cell_type": "markdown",
   "metadata": {},
   "source": [
    "**Acces to the tensorboard:**  \n",
    "*python -m tensorboard.main --logdir=log_test-graph*  \n",
    "then go to *http://localhost:6006*"
   ]
  },
  {
   "cell_type": "markdown",
   "metadata": {},
   "source": [
    "## II. Dataset"
   ]
  },
  {
   "cell_type": "code",
   "execution_count": 4,
   "metadata": {},
   "outputs": [
    {
     "name": "stderr",
     "output_type": "stream",
     "text": [
      "/home/thaithai1/cloud/lib/python3.6/site-packages/sklearn/utils/deprecation.py:144: FutureWarning: The sklearn.datasets.samples_generator module is  deprecated in version 0.22 and will be removed in version 0.24. The corresponding classes / functions should instead be imported from sklearn.datasets. Anything that cannot be imported from sklearn.datasets is now part of the private API.\n",
      "  warnings.warn(message, FutureWarning)\n"
     ]
    },
    {
     "data": {
      "image/png": "[encoded data removed]",
      "text/plain": [
       "<Figure size 720x360 with 1 Axes>"
      ]
     },
     "metadata": {
      "needs_background": "light"
     },
     "output_type": "display_data"
    }
   ],
   "source": [
    "select='circle' # 'blob' or 'moon'\n",
    "if select == 'moon':\n",
    "    from sklearn.datasets import make_moons\n",
    "    X_ori, y_ori = make_moons(n_samples=200, noise=0.1)\n",
    "elif select == 'blob':\n",
    "    from sklearn.datasets.samples_generator import make_blobs\n",
    "    np.random.seed(1)\n",
    "    X_ori, y_ori = make_blobs(n_samples=200, centers=2, n_features=2)\n",
    "elif select == 'circle':\n",
    "    from sklearn.datasets.samples_generator import make_circles\n",
    "    X_ori, y_ori = make_circles(n_samples=200, noise=0.05)\n",
    "\n",
    "\n",
    "plt.figure(figsize=(10,5))\n",
    "plt.scatter(*zip(*X_ori[y_ori==1]), c= 'b', label = '1')\n",
    "plt.scatter(*zip(*X_ori[y_ori==0]), c= 'r', label = '0')\n",
    "plt.legend(bbox_to_anchor=(1.05, 1), loc=2, borderaxespad=0.)\n",
    "plt.show()"
   ]
  },
  {
   "cell_type": "code",
   "execution_count": 5,
   "metadata": {},
   "outputs": [],
   "source": [
    "X = X_ori.T\n",
    "idx=np.random.permutation(X.shape[1])\n",
    "y=y_ori.reshape(-1,1).T\n",
    "X_train, X_test = X[:,idx[:int(X.shape[1]*0.8)]], X[:,idx[int(X.shape[1]*0.8):]]\n",
    "y_train, y_test = y[:,idx[:int(X.shape[1]*0.8)]], y[:,idx[int(X.shape[1]*0.8):]]"
   ]
  },
  {
   "cell_type": "markdown",
   "metadata": {},
   "source": [
    "## II. Fully Connected Network"
   ]
  },
  {
   "cell_type": "markdown",
   "metadata": {},
   "source": [
    "### a. Pick the model "
   ]
  },
  {
   "cell_type": "code",
   "execution_count": null,
   "metadata": {},
   "outputs": [
    {
     "name": "stdout",
     "output_type": "stream",
     "text": [
      "learning rate = 100\n",
      "WARNING:tensorflow:From /mnt/c/Users/Eric/Documents/git_repo/tf_v2/ConvNet.py:56: The name tf.placeholder is deprecated. Please use tf.compat.v1.placeholder instead.\n",
      "\n",
      "WARNING:tensorflow:From /mnt/c/Users/Eric/Documents/git_repo/tf_v2/ConvNet.py:190: The name tf.truncated_normal is deprecated. Please use tf.random.truncated_normal instead.\n",
      "\n",
      "WARNING:tensorflow:From /mnt/c/Users/Eric/Documents/git_repo/tf_v2/ConvNet.py:198: The name tf.summary.histogram is deprecated. Please use tf.compat.v1.summary.histogram instead.\n",
      "\n",
      "WARNING:tensorflow:From /mnt/c/Users/Eric/Documents/git_repo/tf_v2/ConvNet.py:154: The name tf.log is deprecated. Please use tf.math.log instead.\n",
      "\n",
      "WARNING:tensorflow:From /mnt/c/Users/Eric/Documents/git_repo/tf_v2/ConvNet.py:75: The name tf.train.AdamOptimizer is deprecated. Please use tf.compat.v1.train.AdamOptimizer instead.\n",
      "\n",
      "WARNING:tensorflow:From /mnt/c/Users/Eric/Documents/git_repo/tf_v2/ConvNet.py:109: The name tf.summary.merge is deprecated. Please use tf.compat.v1.summary.merge instead.\n",
      "\n",
      "epoch 0, training loss 9.55573, test loss 7.8287888, test accuracy 0.575\n",
      "epoch 300, training loss 9.55573, test loss 7.8287888, test accuracy 0.575\n"
     ]
    }
   ],
   "source": [
    "lr_list = [1e-4, 1e-3, 1e-2, 1e-1, 1,10,100][::-1]\n",
    "for i,lr in enumerate(lr_list):\n",
    "    print('learning rate = %s' % lr)\n",
    "    model=FC_binary_class(X_train, y_train, X_test, y_test)\n",
    "    model.add_FC(20)\n",
    "    model.add_FC(10)\n",
    "    model.add_FC(10)\n",
    "    model.compile()\n",
    "    model.train(epoch = 3001 , batch_size = 32,lr = lr, optimizer = 'adam', filename = f'log_graph/lr={lr}')\n",
    "    print('\\n=================================\\n')"
   ]
  },
  {
   "cell_type": "markdown",
   "metadata": {},
   "source": [
    "By checking the learning curves in the tensorboard, we pick **learning rate = 1e-2**"
   ]
  },
  {
   "cell_type": "markdown",
   "metadata": {},
   "source": [
    "### b. Train the model"
   ]
  },
  {
   "cell_type": "code",
   "execution_count": null,
   "metadata": {},
   "outputs": [],
   "source": [
    "lr = 1e-2\n",
    "model=FC_binary_class(X_train, y_train, X_test, y_test)\n",
    "model.add_FC(20)\n",
    "model.add_FC(10)\n",
    "model.add_FC(10)\n",
    "model.compile()\n",
    "model.train(epoch = 2001 , batch_size = 32,lr = lr, optimizer = 'adam', filename = 'log_graph2')"
   ]
  },
  {
   "cell_type": "markdown",
   "metadata": {},
   "source": [
    "## III Model vizualisation"
   ]
  },
  {
   "cell_type": "code",
   "execution_count": null,
   "metadata": {},
   "outputs": [],
   "source": [
    "#grid\n",
    "xx, yy = np.mgrid[np.min(X_ori[:,0]):np.max(X_ori[:,0]):.01, np.min(X_ori[:,1]):np.max(X_ori[:,1]):.01]\n",
    "grid = np.c_[xx.ravel(), yy.ravel()]\n",
    "probs = model.predict_probs(grid.T).reshape(xx.shape)\n",
    "\n",
    "\n",
    "f, ax = plt.subplots(figsize=(8, 6))\n",
    "contour = ax.contourf(xx, yy, probs,25, cmap='RdBu',vmin=0, vmax=1)\n",
    "ax_c = f.colorbar(contour)\n",
    "ax_c.set_label(\"$P(y = 1)$\")\n",
    "ax_c.set_ticks([0, .25, .5, .75, 1])\n",
    "ax.scatter(*zip(*X_ori), c= y_ori, s=50,\n",
    "           cmap=\"RdBu\", vmin=-.2, vmax=1.2,\n",
    "           edgecolor=\"white\", linewidth=1)\n",
    "\n",
    "\n",
    "ax.set(aspect=\"equal\", xlim=(np.min(X_ori[:,0]),np.max(X_ori[:,0])), \\\n",
    "       ylim = (np.min(X_ori[:,1]),np.max(X_ori[:,1])) , xlabel=\"$X_1$\", ylabel=\"$X_2$\")\n",
    "plt.show()"
   ]
  }
 ],
 "metadata": {
  "kernelspec": {
   "display_name": "Python 3",
   "language": "python",
   "name": "python3"
  },
  "language_info": {
   "codemirror_mode": {
    "name": "ipython",
    "version": 3
   },
   "file_extension": ".py",
   "mimetype": "text/x-python",
   "name": "python",
   "nbconvert_exporter": "python",
   "pygments_lexer": "ipython3",
   "version": "3.6.9"
  }
 },
 "nbformat": 4,
 "nbformat_minor": 2
}
