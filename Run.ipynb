{
 "cells": [
  {
   "cell_type": "code",
   "execution_count": 42,
   "metadata": {},
   "outputs": [
    {
     "name": "stdout",
     "output_type": "stream",
     "text": [
      "The autoreload extension is already loaded. To reload it, use:\n",
      "  %reload_ext autoreload\n"
     ]
    }
   ],
   "source": [
    "from sklearn.datasets import *\n",
    "import matplotlib.pyplot as plt\n",
    "import numpy as np\n",
    "import tensorflow as tf\n",
    "\n",
    "from tf_pipeline import *\n",
    "%load_ext autoreload\n",
    "%autoreload 2\n",
    "%matplotlib inline"
   ]
  },
  {
   "cell_type": "code",
   "execution_count": 44,
   "metadata": {},
   "outputs": [
    {
     "name": "stdout",
     "output_type": "stream",
     "text": [
      "X is (1288, 50, 37), Y is (1288,)\n",
      "7 different classes\n"
     ]
    },
    {
     "data": {
      "image/png": "[encoded data removed]",
      "text/plain": [
       "<Figure size 432x288 with 1 Axes>"
      ]
     },
     "metadata": {},
     "output_type": "display_data"
    }
   ],
   "source": [
    "lfw_people = fetch_lfw_people(min_faces_per_person=70, resize=0.4)\n",
    "X_origine, Y_origine = lfw_people.images, lfw_people.target\n",
    "print(f'X is {X_origine.shape}, Y is {Y_origine.shape}')\n",
    "\n",
    "C=len(np.unique(Y_origine))\n",
    "print(f'{C} different classes')\n",
    "index=0\n",
    "plt.title(lfw_people.target_names[index]);plt.imshow(lfw_people.images[index]);plt.show()"
   ]
  },
  {
   "cell_type": "code",
   "execution_count": 45,
   "metadata": {},
   "outputs": [
    {
     "name": "stdout",
     "output_type": "stream",
     "text": [
      "(1850, 1288) (7, 1288)\n"
     ]
    }
   ],
   "source": [
    "X_flatten=X_origine.reshape(X_origine.shape[0],-1)\n",
    "X_norm=X_flatten/255\n",
    "X=X_norm.T\n",
    "\n",
    "Y_hot=one_hot_encode(Y_origine,C)\n",
    "Y=Y_hot.T\n",
    "print(X.shape,Y.shape)"
   ]
  },
  {
   "cell_type": "code",
   "execution_count": 46,
   "metadata": {
    "collapsed": true
   },
   "outputs": [],
   "source": [
    "r=0.2\n",
    "seed=42\n",
    "np.random.seed(seed=seed)\n",
    "perm=np.random.permutation(X.shape[0])\n",
    "X_train, X_test = X[:,:int((1-r)*X.shape[1])],X[:,int((1-r)*X.shape[1]):]\n",
    "Y_train, Y_test = Y[:,:int((1-r)*X.shape[1])],Y[:,int((1-r)*X.shape[1]):]\n"
   ]
  },
  {
   "cell_type": "code",
   "execution_count": 63,
   "metadata": {},
   "outputs": [
    {
     "name": "stdout",
     "output_type": "stream",
     "text": [
      "o\n"
     ]
    }
   ],
   "source": [
    "n_x=X_train.shape[0]\n",
    "n_y=Y_train.shape[0]\n",
    "arch=[(10,\"reLu\"),(20,\"reLu\"),(None,\"softmax\")]\n",
    "tf.reset_default_graph()\n",
    "parameters=initialize_parameters(arch,n_x,n_y)\n",
    "\n",
    "\n",
    "X = tf.placeholder(tf.float32,shape=[n_x,None])\n",
    "Y = tf.placeholder(tf.float32,shape=[n_y,None])\n",
    "y_=forward_prop(X,parameters,arch)\n",
    "with tf.Session() as sess:\n",
    "    File_writer = tf.summary.FileWriter('log_simple_graph3',sess.graph)\n",
    "    "
   ]
  },
  {
   "cell_type": "code",
   "execution_count": 149,
   "metadata": {},
   "outputs": [
    {
     "ename": "AttributeError",
     "evalue": "'dict' object has no attribute 'up'",
     "output_type": "error",
     "traceback": [
      "\u001b[1;31m---------------------------------------------------------------------------\u001b[0m",
      "\u001b[1;31mAttributeError\u001b[0m                            Traceback (most recent call last)",
      "\u001b[1;32m<ipython-input-149-986857c026ea>\u001b[0m in \u001b[0;36m<module>\u001b[1;34m()\u001b[0m\n\u001b[0;32m      1\u001b[0m \u001b[0mparameters\u001b[0m\u001b[1;33m=\u001b[0m\u001b[1;33m{\u001b[0m\u001b[1;33m}\u001b[0m\u001b[1;33m\u001b[0m\u001b[0m\n\u001b[1;32m----> 2\u001b[1;33m \u001b[0mparameters\u001b[0m\u001b[1;33m.\u001b[0m\u001b[0mup\u001b[0m\u001b[1;33m\u001b[0m\u001b[0m\n\u001b[0m",
      "\u001b[1;31mAttributeError\u001b[0m: 'dict' object has no attribute 'up'"
     ]
    }
   ],
   "source": [
    "parameters={}\n",
    "parameters.update()"
   ]
  },
  {
   "cell_type": "code",
   "execution_count": 173,
   "metadata": {},
   "outputs": [
    {
     "name": "stdout",
     "output_type": "stream",
     "text": [
      "1489264832\n",
      "2187277127560\n"
     ]
    }
   ],
   "source": [
    "foo=list()\n",
    "bar=foo\n",
    "foo=2\n",
    "print(id(foo))\n",
    "print(id(bar))"
   ]
  },
  {
   "cell_type": "code",
   "execution_count": 96,
   "metadata": {
    "collapsed": true
   },
   "outputs": [],
   "source": [
    "tf.reset_default_graph()\n",
    "\n",
    "#setup\n",
    "x = tf.constant(1.,name=\"input_value\")\n",
    "w = tf.Variable(0.8,name=\"weight\")\n",
    "y = tf.multiply(w , x,name=\"output_value\")\n",
    "y_ = tf.constant(0.0)\n",
    "loss = (y - y_)**2\n",
    "train_step = tf.train.GradientDescentOptimizer(0.025).minimize(loss)\n",
    "\n",
    "#monitor\n",
    "summary_y = tf.summary.scalar('output', y)\n",
    "\n",
    "\n",
    "# monitor_operation()\n",
    "with tf.Session() as sess:\n",
    "    summary_writer = tf.summary.FileWriter('log_simple_graph',sess.graph)\n",
    "    init = tf.initialize_all_variables()\n",
    "    sess.run(init)\n",
    "    for i in range(100):\n",
    "        summary_str = sess.run(summary_y)\n",
    "        summary_writer.add_summary(summary_str, i)\n",
    "        sess.run(train_step)"
   ]
  },
  {
   "cell_type": "code",
   "execution_count": null,
   "metadata": {
    "collapsed": true
   },
   "outputs": [],
   "source": [
    "arch=[(5,\"relu\")]\n",
    "param=model(X_train,X_test,Y_train,Y_test,arch)\n",
    "Y_test"
   ]
  },
  {
   "cell_type": "code",
   "execution_count": 49,
   "metadata": {},
   "outputs": [
    {
     "ename": "AttributeError",
     "evalue": "module 'tensorflow' has no attribute 'mul'",
     "output_type": "error",
     "traceback": [
      "\u001b[1;31m---------------------------------------------------------------------------\u001b[0m",
      "\u001b[1;31mAttributeError\u001b[0m                            Traceback (most recent call last)",
      "\u001b[1;32m<ipython-input-49-e40631e1aeff>\u001b[0m in \u001b[0;36m<module>\u001b[1;34m()\u001b[0m\n\u001b[1;32m----> 1\u001b[1;33m \u001b[0mtf\u001b[0m\u001b[1;33m.\u001b[0m\u001b[0mmul\u001b[0m\u001b[1;33m\u001b[0m\u001b[0m\n\u001b[0m",
      "\u001b[1;31mAttributeError\u001b[0m: module 'tensorflow' has no attribute 'mul'"
     ]
    }
   ],
   "source": [
    "tf.multiply"
   ]
  },
  {
   "cell_type": "code",
   "execution_count": 10,
   "metadata": {},
   "outputs": [
    {
     "name": "stdout",
     "output_type": "stream",
     "text": [
      "Tensor(\"Const:0\", shape=(), dtype=float32) Tensor(\"Const_1:0\", shape=(), dtype=float32)\n",
      "[3.0, 4.0]\n"
     ]
    }
   ],
   "source": [
    "import tensorflow as tf\n",
    "tf.reset_default_graph()\n",
    "node1=tf.constant(3.0,tf.float32)\n",
    "node2=tf.constant(4.0,tf.float32)\n",
    "\n",
    "print(node1,node2)\n",
    "# node3=node1\n",
    "# print(node3)\n",
    "\n",
    "#Open a session : place the graph operation on devices (CPUs, GPUs) and provide method to execute them\n",
    "# Need to close in order to free up the ressources used\n",
    "with tf.Session() as sess:\n",
    "    output=sess.run([node1,node2])\n",
    "    print(output)"
   ]
  },
  {
   "cell_type": "code",
   "execution_count": 13,
   "metadata": {},
   "outputs": [
    {
     "name": "stdout",
     "output_type": "stream",
     "text": [
      "30.0\n"
     ]
    }
   ],
   "source": [
    "import tensorflow as tf\n",
    "tf.reset_default_graph()\n",
    "a=tf.constant(5.0)\n",
    "b=tf.constant(6.0)\n",
    "c=a*b\n",
    "\n",
    "with tf.Session() as sess:\n",
    "    File_writer = tf.summary.FileWriter('log_simple_graph2',sess.graph)\n",
    "    print(sess.run(c))"
   ]
  },
  {
   "cell_type": "code",
   "execution_count": 14,
   "metadata": {},
   "outputs": [
    {
     "name": "stdout",
     "output_type": "stream",
     "text": [
      "[ 3.  7.]\n"
     ]
    }
   ],
   "source": [
    "import tensorflow as tf\n",
    "tf.reset_default_graph()\n",
    "\n",
    "a=tf.placeholder(tf.float32)\n",
    "b=tf.placeholder(tf.float32)\n",
    "adder_node=a+b\n",
    "\n",
    "with tf.Session() as sess:\n",
    "    print(sess.run(adder_node,{a:[1,3],b:[2,4]}))"
   ]
  },
  {
   "cell_type": "code",
   "execution_count": 21,
   "metadata": {},
   "outputs": [
    {
     "name": "stdout",
     "output_type": "stream",
     "text": [
      "[array([-0.99998975], dtype=float32), array([ 0.99997061], dtype=float32)]\n"
     ]
    }
   ],
   "source": [
    "import tensorflow as tf\n",
    "#Model parameters\n",
    "W=tf.Variable([.3],tf.float32)\n",
    "b=tf.Variable( [-.3],tf.float32)\n",
    "\n",
    "#Input outputs\n",
    "x=tf.placeholder(tf.float32)\n",
    "\n",
    "linear_model=W*x+b\n",
    "\n",
    "y=tf.placeholder(tf.float32)\n",
    "\n",
    "\n",
    "#Loss\n",
    "square_delta=tf.square(linear_model-y)\n",
    "loss=tf.reduce_sum(square_delta)\n",
    "\n",
    "#Initialize\n",
    "init=tf.global_variables_initializer()\n",
    "\n",
    "#Optimizer\n",
    "optim=tf.train.GradientDescentOptimizer(.001)\n",
    "train=optim.minimize(loss)\n",
    "\n",
    "#saver=tf.train.Saver() \n",
    "\n",
    "with tf.Session() as sess:\n",
    "    sess.run(init)\n",
    "    for i in range(10000):\n",
    "        sess.run(train,{x:[1,2,3,4],y:[0,-1,-2,-3]})\n",
    "    print(sess.run([W,b]))\n",
    "tf.nn.softmax"
   ]
  }
 ],
 "metadata": {
  "kernelspec": {
   "display_name": "Python 3",
   "language": "python",
   "name": "python3"
  },
  "language_info": {
   "codemirror_mode": {
    "name": "ipython",
    "version": 3
   },
   "file_extension": ".py",
   "mimetype": "text/x-python",
   "name": "python",
   "nbconvert_exporter": "python",
   "pygments_lexer": "ipython3",
   "version": "3.6.6"
  }
 },
 "nbformat": 4,
 "nbformat_minor": 2
}
